{
  "nbformat": 4,
  "nbformat_minor": 0,
  "metadata": {
    "colab": {
      "provenance": []
    },
    "kernelspec": {
      "name": "python3",
      "display_name": "Python 3"
    },
    "language_info": {
      "name": "python"
    }
  },
  "cells": [
    {
      "cell_type": "markdown",
      "source": [
        "Addition of 2 vectors"
      ],
      "metadata": {
        "id": "FIeG7hiJdUqw"
      }
    },
    {
      "cell_type": "code",
      "source": [
        "import numpy as np\n",
        "import tensorflow as tf"
      ],
      "metadata": {
        "id": "tEXlqhVddqPD"
      },
      "execution_count": 2,
      "outputs": []
    },
    {
      "cell_type": "markdown",
      "source": [
        "Multiply Matrix with Vector"
      ],
      "metadata": {
        "id": "99hhu76cduxA"
      }
    },
    {
      "cell_type": "code",
      "source": [
        "A= np.array([[2],[4],[6],[8]])\n",
        "B=np.array([1,2,3,4])\n",
        "c = A*B\n",
        "c"
      ],
      "metadata": {
        "colab": {
          "base_uri": "https://localhost:8080/"
        },
        "id": "MBLLgMLJdntL",
        "outputId": "5e5ca06e-d0ca-4b1c-bde3-a4940a581e47"
      },
      "execution_count": 10,
      "outputs": [
        {
          "output_type": "execute_result",
          "data": {
            "text/plain": [
              "array([[ 2,  4,  6,  8],\n",
              "       [ 4,  8, 12, 16],\n",
              "       [ 6, 12, 18, 24],\n",
              "       [ 8, 16, 24, 32]])"
            ]
          },
          "metadata": {},
          "execution_count": 10
        }
      ]
    },
    {
      "cell_type": "code",
      "source": [],
      "metadata": {
        "id": "zMplKvQyefC5"
      },
      "execution_count": null,
      "outputs": []
    }
  ]
}