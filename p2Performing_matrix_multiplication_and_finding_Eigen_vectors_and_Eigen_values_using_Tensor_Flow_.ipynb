{
  "nbformat": 4,
  "nbformat_minor": 0,
  "metadata": {
    "colab": {
      "provenance": []
    },
    "kernelspec": {
      "name": "python3",
      "display_name": "Python 3"
    },
    "language_info": {
      "name": "python"
    }
  },
  "cells": [
    {
      "cell_type": "markdown",
      "source": [
        "Addition of 2 vectors"
      ],
      "metadata": {
        "id": "FIeG7hiJdUqw"
      }
    },
    {
      "cell_type": "code",
      "source": [
        "\n",
        "import tensorflow as tf"
      ],
      "metadata": {
        "id": "tEXlqhVddqPD"
      },
      "execution_count": 14,
      "outputs": []
    },
    {
      "cell_type": "code",
      "source": [
        "x=tf.constant([1,2,3,4,5,6], shape=[2,3])\n",
        "y=tf.constant([9,8,3,7,5,6], shape=[3,2])"
      ],
      "metadata": {
        "id": "hYIXykoGfylx"
      },
      "execution_count": 18,
      "outputs": []
    },
    {
      "cell_type": "code",
      "source": [
        "z =tf.matmul(x,y)\n",
        "print(z)"
      ],
      "metadata": {
        "colab": {
          "base_uri": "https://localhost:8080/"
        },
        "id": "xLEOHB4pgGsR",
        "outputId": "003b5edd-8b00-4bce-db53-85d11bd60994"
      },
      "execution_count": 19,
      "outputs": [
        {
          "output_type": "stream",
          "name": "stdout",
          "text": [
            "tf.Tensor(\n",
            "[[ 30  40]\n",
            " [ 81 103]], shape=(2, 2), dtype=int32)\n"
          ]
        }
      ]
    },
    {
      "cell_type": "code",
      "source": [
        "e_matrix_A = tf.random.uniform([2,2],minval=3,maxval=10,dtype=tf.float32, name=\"matrixA\")\n",
        "print(\"Matrix A:{}\".format(e_matrix_A))\n"
      ],
      "metadata": {
        "colab": {
          "base_uri": "https://localhost:8080/"
        },
        "id": "jK4E0EW7gP0y",
        "outputId": "ed893793-a4f1-4948-b1ec-e661ad8c41fb"
      },
      "execution_count": 20,
      "outputs": [
        {
          "output_type": "stream",
          "name": "stdout",
          "text": [
            "Matrix A:[[9.945085  6.433549 ]\n",
            " [3.3264437 7.888077 ]]\n"
          ]
        }
      ]
    },
    {
      "cell_type": "code",
      "source": [
        "eigen_value, eigen_vector=tf.linalg.eigh(e_matrix_A)\n",
        "print(\"eigen vector:\\n\\n{}\\n\\n \\neigen values:{}\".format(eigen_vector, eigen_value))"
      ],
      "metadata": {
        "colab": {
          "base_uri": "https://localhost:8080/"
        },
        "id": "s2848974gy5A",
        "outputId": "38930278-77f6-4fc1-97d9-e3dc51fa4ae3"
      },
      "execution_count": 22,
      "outputs": [
        {
          "output_type": "stream",
          "name": "stdout",
          "text": [
            "eigen vector:\n",
            "\n",
            "[[-0.5935516   0.80479586]\n",
            " [ 0.80479586  0.5935516 ]]\n",
            "\n",
            " \n",
            "eigen values:[ 5.434763 12.398396]\n"
          ]
        }
      ]
    },
    {
      "cell_type": "code",
      "source": [],
      "metadata": {
        "id": "S6OgYWTthQ6Y"
      },
      "execution_count": null,
      "outputs": []
    }
  ]
}